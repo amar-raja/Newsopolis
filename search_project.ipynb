{
 "cells": [
  {
   "cell_type": "code",
   "execution_count": 1,
   "id": "926a0c39",
   "metadata": {},
   "outputs": [],
   "source": [
    "import pandas as pd\n",
    "import datetime\n",
    "import sys"
   ]
  },
  {
   "cell_type": "code",
   "execution_count": 2,
   "id": "87771a5c",
   "metadata": {},
   "outputs": [],
   "source": [
    "df = pd.read_pickle(\"./df.pkl\")"
   ]
  },
  {
   "cell_type": "code",
   "execution_count": 3,
   "id": "3e586421",
   "metadata": {},
   "outputs": [
    {
     "ename": "KeyboardInterrupt",
     "evalue": "Interrupted by user",
     "output_type": "error",
     "traceback": [
      "\u001b[1;31m---------------------------------------------------------------------------\u001b[0m",
      "\u001b[1;31mKeyboardInterrupt\u001b[0m                         Traceback (most recent call last)",
      "\u001b[1;32m~\\AppData\\Local\\Temp/ipykernel_16260/3270024475.py\u001b[0m in \u001b[0;36m<module>\u001b[1;34m\u001b[0m\n\u001b[1;32m----> 1\u001b[1;33m \u001b[0mcat_type\u001b[0m \u001b[1;33m=\u001b[0m \u001b[0minput\u001b[0m\u001b[1;33m(\u001b[0m\u001b[1;33m)\u001b[0m\u001b[1;33m\u001b[0m\u001b[1;33m\u001b[0m\u001b[0m\n\u001b[0m\u001b[0;32m      2\u001b[0m \u001b[0mstart_date\u001b[0m \u001b[1;33m=\u001b[0m \u001b[0minput\u001b[0m\u001b[1;33m(\u001b[0m\u001b[1;34m'Enter a date in YYYY-MM-DD format'\u001b[0m\u001b[1;33m)\u001b[0m\u001b[1;33m\u001b[0m\u001b[1;33m\u001b[0m\u001b[0m\n\u001b[0;32m      3\u001b[0m \u001b[0myear\u001b[0m\u001b[1;33m,\u001b[0m \u001b[0mmonth\u001b[0m\u001b[1;33m,\u001b[0m \u001b[0mday\u001b[0m \u001b[1;33m=\u001b[0m \u001b[0mmap\u001b[0m\u001b[1;33m(\u001b[0m\u001b[0mint\u001b[0m\u001b[1;33m,\u001b[0m \u001b[0mstart_date\u001b[0m\u001b[1;33m.\u001b[0m\u001b[0msplit\u001b[0m\u001b[1;33m(\u001b[0m\u001b[1;34m'-'\u001b[0m\u001b[1;33m)\u001b[0m\u001b[1;33m)\u001b[0m\u001b[1;33m\u001b[0m\u001b[1;33m\u001b[0m\u001b[0m\n\u001b[0;32m      4\u001b[0m \u001b[0mstart_date\u001b[0m \u001b[1;33m=\u001b[0m \u001b[0mdatetime\u001b[0m\u001b[1;33m.\u001b[0m\u001b[0mdate\u001b[0m\u001b[1;33m(\u001b[0m\u001b[0myear\u001b[0m\u001b[1;33m,\u001b[0m \u001b[0mmonth\u001b[0m\u001b[1;33m,\u001b[0m \u001b[0mday\u001b[0m\u001b[1;33m)\u001b[0m\u001b[1;33m\u001b[0m\u001b[1;33m\u001b[0m\u001b[0m\n\u001b[0;32m      5\u001b[0m \u001b[0mend_date\u001b[0m \u001b[1;33m=\u001b[0m \u001b[0minput\u001b[0m\u001b[1;33m(\u001b[0m\u001b[1;34m'Enter a date in YYYY-MM-DD format'\u001b[0m\u001b[1;33m)\u001b[0m\u001b[1;33m\u001b[0m\u001b[1;33m\u001b[0m\u001b[0m\n",
      "\u001b[1;32mc:\\users\\ivnag\\appdata\\local\\programs\\python\\python39\\lib\\site-packages\\ipykernel\\kernelbase.py\u001b[0m in \u001b[0;36mraw_input\u001b[1;34m(self, prompt)\u001b[0m\n\u001b[0;32m   1004\u001b[0m                 \u001b[1;34m\"raw_input was called, but this frontend does not support input requests.\"\u001b[0m\u001b[1;33m\u001b[0m\u001b[1;33m\u001b[0m\u001b[0m\n\u001b[0;32m   1005\u001b[0m             )\n\u001b[1;32m-> 1006\u001b[1;33m         return self._input_request(\n\u001b[0m\u001b[0;32m   1007\u001b[0m             \u001b[0mstr\u001b[0m\u001b[1;33m(\u001b[0m\u001b[0mprompt\u001b[0m\u001b[1;33m)\u001b[0m\u001b[1;33m,\u001b[0m\u001b[1;33m\u001b[0m\u001b[1;33m\u001b[0m\u001b[0m\n\u001b[0;32m   1008\u001b[0m             \u001b[0mself\u001b[0m\u001b[1;33m.\u001b[0m\u001b[0m_parent_ident\u001b[0m\u001b[1;33m[\u001b[0m\u001b[1;34m\"shell\"\u001b[0m\u001b[1;33m]\u001b[0m\u001b[1;33m,\u001b[0m\u001b[1;33m\u001b[0m\u001b[1;33m\u001b[0m\u001b[0m\n",
      "\u001b[1;32mc:\\users\\ivnag\\appdata\\local\\programs\\python\\python39\\lib\\site-packages\\ipykernel\\kernelbase.py\u001b[0m in \u001b[0;36m_input_request\u001b[1;34m(self, prompt, ident, parent, password)\u001b[0m\n\u001b[0;32m   1049\u001b[0m             \u001b[1;32mexcept\u001b[0m \u001b[0mKeyboardInterrupt\u001b[0m\u001b[1;33m:\u001b[0m\u001b[1;33m\u001b[0m\u001b[1;33m\u001b[0m\u001b[0m\n\u001b[0;32m   1050\u001b[0m                 \u001b[1;31m# re-raise KeyboardInterrupt, to truncate traceback\u001b[0m\u001b[1;33m\u001b[0m\u001b[1;33m\u001b[0m\u001b[1;33m\u001b[0m\u001b[0m\n\u001b[1;32m-> 1051\u001b[1;33m                 \u001b[1;32mraise\u001b[0m \u001b[0mKeyboardInterrupt\u001b[0m\u001b[1;33m(\u001b[0m\u001b[1;34m\"Interrupted by user\"\u001b[0m\u001b[1;33m)\u001b[0m \u001b[1;32mfrom\u001b[0m \u001b[1;32mNone\u001b[0m\u001b[1;33m\u001b[0m\u001b[1;33m\u001b[0m\u001b[0m\n\u001b[0m\u001b[0;32m   1052\u001b[0m             \u001b[1;32mexcept\u001b[0m \u001b[0mException\u001b[0m\u001b[1;33m:\u001b[0m\u001b[1;33m\u001b[0m\u001b[1;33m\u001b[0m\u001b[0m\n\u001b[0;32m   1053\u001b[0m                 \u001b[0mself\u001b[0m\u001b[1;33m.\u001b[0m\u001b[0mlog\u001b[0m\u001b[1;33m.\u001b[0m\u001b[0mwarning\u001b[0m\u001b[1;33m(\u001b[0m\u001b[1;34m\"Invalid Message:\"\u001b[0m\u001b[1;33m,\u001b[0m \u001b[0mexc_info\u001b[0m\u001b[1;33m=\u001b[0m\u001b[1;32mTrue\u001b[0m\u001b[1;33m)\u001b[0m\u001b[1;33m\u001b[0m\u001b[1;33m\u001b[0m\u001b[0m\n",
      "\u001b[1;31mKeyboardInterrupt\u001b[0m: Interrupted by user"
     ]
    }
   ],
   "source": [
    "cat_type = input()\n",
    "start_date = input('Enter a date in YYYY-MM-DD format')\n",
    "year, month, day = map(int, start_date.split('-'))\n",
    "start_date = datetime.date(year, month, day)\n",
    "end_date = input('Enter a date in YYYY-MM-DD format')\n",
    "year, month, day = map(int, end_date.split('-'))\n",
    "end_date = datetime.date(year, month, day)"
   ]
  },
  {
   "cell_type": "code",
   "execution_count": 4,
   "id": "43a56228",
   "metadata": {},
   "outputs": [
    {
     "name": "stderr",
     "output_type": "stream",
     "text": [
      "C:\\Users\\siddh\\AppData\\Local\\Temp/ipykernel_15732/495276918.py:1: FutureWarning: Comparison of Timestamp with datetime.date is deprecated in order to match the standard library behavior.  In a future version these will be considered non-comparable.Use 'ts == pd.Timestamp(date)' or 'ts.date() == date' instead.\n",
      "  if start_date>=min(df.date) and end_date<=max(df.date):\n",
      "C:\\Users\\siddh\\AppData\\Local\\Temp/ipykernel_15732/495276918.py:1: FutureWarning: Comparison of Timestamp with datetime.date is deprecated in order to match the standard library behavior.  In a future version these will be considered non-comparable.Use 'ts == pd.Timestamp(date)' or 'ts.date() == date' instead.\n",
      "  if start_date>=min(df.date) and end_date<=max(df.date):\n"
     ]
    }
   ],
   "source": [
    "if start_date>=min(df.date) and end_date<=max(df.date):\n",
    "    pass\n",
    "else:\n",
    "    print(\"Recheck date range given!!!\")"
   ]
  },
  {
   "cell_type": "code",
   "execution_count": 5,
   "id": "fcd4933b",
   "metadata": {},
   "outputs": [],
   "source": [
    "if cat_type not in set(df.category) and cat_type!='all':\n",
    "    sys.exit()"
   ]
  },
  {
   "cell_type": "code",
   "execution_count": 12,
   "id": "6a08a4a1",
   "metadata": {},
   "outputs": [
    {
     "name": "stdout",
     "output_type": "stream",
     "text": [
      "{'frontpage': 'frontpag', 'sport': 'sport', 'business': 'busi', 'national': 'nation', 'international': 'intern'}\n"
     ]
    }
   ],
   "source": [
    "mapping={'frontpag':'frontpage','sport':'sport','busi':'business','nation':'national','intern':'international'}\n",
    "qqqqq={}\n",
    "for i in mapping:\n",
    "    qqqqq[mapping[i]]=i\n",
    "print(qqqqq)"
   ]
  },
  {
   "cell_type": "code",
   "execution_count": 11,
   "id": "8837460d",
   "metadata": {},
   "outputs": [
    {
     "name": "stdout",
     "output_type": "stream",
     "text": [
      "             date category                            unpreprocessed_headline  \\\n",
      "18     2012-01-01     busi                        IOC plans LPG pipeline grid   \n",
      "19     2012-01-01     busi             Telecom sector still at the crossroads   \n",
      "20     2012-01-01     busi        Lack of new orders hits construction sector   \n",
      "21     2012-01-01     busi                NTPC board clears two mega projects   \n",
      "22     2012-01-01     busi  Lupin gets final FDA nod for generic Tricor ta...   \n",
      "...           ...      ...                                                ...   \n",
      "352258 2022-04-22     busi  niti-aayog-targets-ev-push-with-battery-swappi...   \n",
      "352259 2022-04-22     busi  three-key-states-said-to-plan-coal-imports-to-...   \n",
      "352260 2022-04-22     busi  fertilizer-subsidies-may-surge-to-rs-19-lakh-c...   \n",
      "352261 2022-04-22     busi           hcl-tech-q4-net-triples-to-rs-3593-crore   \n",
      "352262 2022-04-22     busi     refiners-said-to-skip-rosneft-oil-sale-tenders   \n",
      "\n",
      "                                            named_tags  \n",
      "18                                 [IOC, LPG pipeline]  \n",
      "19                    [Telecom sector, the crossroads]  \n",
      "20             [Lack, new orders, construction sector]  \n",
      "21                     [NTPC board, two mega projects]  \n",
      "22      [Lupin, final FDA nod, generic Tricor tablets]  \n",
      "...                                                ...  \n",
      "352258                                       [battery]  \n",
      "352259                                          [plan]  \n",
      "352260                                            [cr]  \n",
      "352261                                        [rs3593]  \n",
      "352262              [refiners, rosneft, sale, tenders]  \n",
      "\n",
      "[33481 rows x 4 columns]\n"
     ]
    }
   ],
   "source": [
    "mapping={'frontpag':'frontpage','sport':'sport','busi':'business','nation':'national','intern':'international'}\n",
    "print(df[df.category.isin([\"busi\"])])"
   ]
  },
  {
   "cell_type": "code",
   "execution_count": 6,
   "id": "f9919def",
   "metadata": {},
   "outputs": [],
   "source": [
    "if cat_type=='all':\n",
    "    df=df\n",
    "else:\n",
    "    df=df[df.category==cat_type]\n",
    "    df=df.reset_index(drop=True)"
   ]
  },
  {
   "cell_type": "code",
   "execution_count": 7,
   "id": "3e23809d",
   "metadata": {},
   "outputs": [],
   "source": [
    "df = df[(pd.Timestamp(start_date)<=df.date) & (df.date<=pd.Timestamp(end_date))]\n",
    "df=df.reset_index(drop=True)"
   ]
  },
  {
   "cell_type": "code",
   "execution_count": 8,
   "id": "b16c8902",
   "metadata": {},
   "outputs": [],
   "source": [
    "grouped=df.groupby(by='date')"
   ]
  },
  {
   "cell_type": "code",
   "execution_count": 9,
   "id": "75122af4",
   "metadata": {},
   "outputs": [],
   "source": [
    "d=dict()\n",
    "for i in grouped:\n",
    "    curr_df=i[1]\n",
    "    s=set()\n",
    "    for j in curr_df.named_tags:\n",
    "        if len(j)>=2:\n",
    "            for l in range(len(j)-1):\n",
    "                curr_bigram=tuple(sorted([j[l].lower(),j[l+1].lower()]))\n",
    "                s.add(curr_bigram)\n",
    "    for j in s:\n",
    "        if j in d:\n",
    "            d[j]+=1\n",
    "        else:\n",
    "            d[j]=1"
   ]
  },
  {
   "cell_type": "code",
   "execution_count": 11,
   "id": "e85ef10a",
   "metadata": {},
   "outputs": [],
   "source": [
    "d = dict(sorted(d.items(), key=lambda item: item[1],reverse=True))"
   ]
  },
  {
   "cell_type": "code",
   "execution_count": 12,
   "id": "9611f3c3",
   "metadata": {},
   "outputs": [],
   "source": [
    "d_list = list(d.keys())"
   ]
  },
  {
   "cell_type": "code",
   "execution_count": 13,
   "id": "57e3e69d",
   "metadata": {},
   "outputs": [
    {
     "data": {
      "text/plain": [
       "[('anand', 'carlsen'),\n",
       " ('adraw', 'play'),\n",
       " ('carlsen', 'play'),\n",
       " ('achance', 'india'),\n",
       " ('bedes', 'st'),\n",
       " ('thomasjohn', 'title'),\n",
       " ('edukick', 'scout'),\n",
       " ('aplan', 'mostbowlers'),\n",
       " ('goldenday', 'tamil'),\n",
       " ('breeders', 'stud')]"
      ]
     },
     "execution_count": 13,
     "metadata": {},
     "output_type": "execute_result"
    }
   ],
   "source": [
    "d_list[:10]"
   ]
  },
  {
   "cell_type": "code",
   "execution_count": 14,
   "id": "5fbf4a34",
   "metadata": {},
   "outputs": [
    {
     "data": {
      "text/html": [
       "<div>\n",
       "<style scoped>\n",
       "    .dataframe tbody tr th:only-of-type {\n",
       "        vertical-align: middle;\n",
       "    }\n",
       "\n",
       "    .dataframe tbody tr th {\n",
       "        vertical-align: top;\n",
       "    }\n",
       "\n",
       "    .dataframe thead th {\n",
       "        text-align: right;\n",
       "    }\n",
       "</style>\n",
       "<table border=\"1\" class=\"dataframe\">\n",
       "  <thead>\n",
       "    <tr style=\"text-align: right;\">\n",
       "      <th></th>\n",
       "      <th>date</th>\n",
       "      <th>category</th>\n",
       "      <th>unpreprocessed_headline</th>\n",
       "      <th>named_tags</th>\n",
       "    </tr>\n",
       "  </thead>\n",
       "  <tbody>\n",
       "    <tr>\n",
       "      <th>0</th>\n",
       "      <td>2014-02-01</td>\n",
       "      <td>sport</td>\n",
       "      <td>yuki-bhambri-puts-india-ahead</td>\n",
       "      <td>[yukibhambriputsindiaahead]</td>\n",
       "    </tr>\n",
       "    <tr>\n",
       "      <th>1</th>\n",
       "      <td>2014-02-01</td>\n",
       "      <td>sport</td>\n",
       "      <td>australia-sweeps-to-series-win</td>\n",
       "      <td>[series]</td>\n",
       "    </tr>\n",
       "    <tr>\n",
       "      <th>2</th>\n",
       "      <td>2014-02-01</td>\n",
       "      <td>sport</td>\n",
       "      <td>sindhu-has-the-potential-to-win-the-allengland...</td>\n",
       "      <td>[sindhu, title, thomasjohn]</td>\n",
       "    </tr>\n",
       "    <tr>\n",
       "      <th>3</th>\n",
       "      <td>2014-02-01</td>\n",
       "      <td>sport</td>\n",
       "      <td>fifa-demands-update-from-qatar</td>\n",
       "      <td>[qatar]</td>\n",
       "    </tr>\n",
       "    <tr>\n",
       "      <th>4</th>\n",
       "      <td>2014-02-01</td>\n",
       "      <td>sport</td>\n",
       "      <td>vani-kapoor-wins-first-leg</td>\n",
       "      <td>[vanikapoorwinsfirstleg]</td>\n",
       "    </tr>\n",
       "  </tbody>\n",
       "</table>\n",
       "</div>"
      ],
      "text/plain": [
       "        date category                            unpreprocessed_headline  \\\n",
       "0 2014-02-01    sport                      yuki-bhambri-puts-india-ahead   \n",
       "1 2014-02-01    sport                     australia-sweeps-to-series-win   \n",
       "2 2014-02-01    sport  sindhu-has-the-potential-to-win-the-allengland...   \n",
       "3 2014-02-01    sport                     fifa-demands-update-from-qatar   \n",
       "4 2014-02-01    sport                         vani-kapoor-wins-first-leg   \n",
       "\n",
       "                    named_tags  \n",
       "0  [yukibhambriputsindiaahead]  \n",
       "1                     [series]  \n",
       "2  [sindhu, title, thomasjohn]  \n",
       "3                      [qatar]  \n",
       "4     [vanikapoorwinsfirstleg]  "
      ]
     },
     "execution_count": 14,
     "metadata": {},
     "output_type": "execute_result"
    }
   ],
   "source": [
    "df.head()"
   ]
  },
  {
   "cell_type": "code",
   "execution_count": 21,
   "id": "9f1dad64",
   "metadata": {},
   "outputs": [],
   "source": [
    "def return_headline(tple):\n",
    "    heading_list = []\n",
    "    for i in range(len(df.named_tags)):\n",
    "        if (tple[0] in df.named_tags[i]) and (tple[1] in df.named_tags[i]):\n",
    "            heading_list.append(df.unpreprocessed_headline[i])\n",
    "    return heading_list"
   ]
  },
  {
   "cell_type": "code",
   "execution_count": 27,
   "id": "321c459b",
   "metadata": {},
   "outputs": [
    {
     "data": {
      "text/plain": [
       "['be-safe-for-kunigal-stud-breeders-produce-stakes']"
      ]
     },
     "execution_count": 27,
     "metadata": {},
     "output_type": "execute_result"
    }
   ],
   "source": [
    "return_headline(d_list[9])"
   ]
  },
  {
   "cell_type": "code",
   "execution_count": null,
   "id": "28f4e3a3",
   "metadata": {},
   "outputs": [],
   "source": []
  }
 ],
 "metadata": {
  "kernelspec": {
   "display_name": "Python 3 (ipykernel)",
   "language": "python",
   "name": "python3"
  },
  "language_info": {
   "codemirror_mode": {
    "name": "ipython",
    "version": 3
   },
   "file_extension": ".py",
   "mimetype": "text/x-python",
   "name": "python",
   "nbconvert_exporter": "python",
   "pygments_lexer": "ipython3",
   "version": "3.9.2rc1"
  }
 },
 "nbformat": 4,
 "nbformat_minor": 5
}
