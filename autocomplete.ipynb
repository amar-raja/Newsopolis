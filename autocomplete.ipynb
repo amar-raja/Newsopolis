{
 "cells": [
  {
   "cell_type": "code",
   "execution_count": 4,
   "id": "0d3df2ae",
   "metadata": {},
   "outputs": [
    {
     "name": "stderr",
     "output_type": "stream",
     "text": [
      "C:\\Users\\ivnag\\AppData\\Local\\Temp/ipykernel_19212/4199784792.py:19: DeprecationWarning: Passing transport options in the API method is deprecated. Use 'Elasticsearch.options()' instead.\n",
      "  es.indices.create(\n",
      "C:\\Users\\ivnag\\AppData\\Local\\Temp/ipykernel_19212/4199784792.py:19: DeprecationWarning: The 'body' parameter is deprecated and will be removed in a future version. Instead use individual parameters.\n",
      "  es.indices.create(\n"
     ]
    },
    {
     "data": {
      "text/plain": [
       "ObjectApiResponse({'acknowledged': True, 'shards_acknowledged': True, 'index': 'autocomplete'})"
      ]
     },
     "execution_count": 4,
     "metadata": {},
     "output_type": "execute_result"
    }
   ],
   "source": [
    "from elasticsearch import Elasticsearch\n",
    "es = Elasticsearch(\"http://localhost:9200\")\n",
    "mapping={\"settings\":{\"number_of_shards\": 1,\"number_of_replicas\": 0},\n",
    "\"mappings\": {\"dynamic\": \"true\",\"_source\": {\"enabled\": \"true\"},\n",
    "\"properties\": {\n",
    "\"title\": {\n",
    "\"type\": \"search_as_you_type\"\n",
    "},\n",
    "    \"date\":\n",
    "    {\n",
    "        \"type\": \"date\"\n",
    "    },\n",
    "\"category\":\n",
    "    {\n",
    "        \"type\":\"keyword\"\n",
    "    }\n",
    "\n",
    "}}}\n",
    "es.indices.create(\n",
    "    index=\"autocomplete\",\n",
    "    body=mapping,\n",
    "    ignore=400 # ignore 400 already exists code\n",
    ")"
   ]
  },
  {
   "cell_type": "code",
   "execution_count": 3,
   "id": "a670b891",
   "metadata": {},
   "outputs": [
    {
     "name": "stderr",
     "output_type": "stream",
     "text": [
      "C:\\Users\\ivnag\\AppData\\Local\\Temp/ipykernel_19212/1038114514.py:1: DeprecationWarning: Passing transport options in the API method is deprecated. Use 'Elasticsearch.options()' instead.\n",
      "  es.indices.delete(index='autocomplete', ignore=[400, 404])\n"
     ]
    },
    {
     "data": {
      "text/plain": [
       "ObjectApiResponse({'acknowledged': True})"
      ]
     },
     "execution_count": 3,
     "metadata": {},
     "output_type": "execute_result"
    }
   ],
   "source": [
    "es.indices.delete(index='autocomplete', ignore=[400, 404])"
   ]
  },
  {
   "cell_type": "code",
   "execution_count": 6,
   "id": "68acc118",
   "metadata": {},
   "outputs": [],
   "source": [
    "data=list(i.replace(\"\\n\",\"\") for i in open(\"news-dump_2020_1.txt\",encoding='utf-8'))\n",
    "i=0\n",
    "l=len(data)\n",
    "res=[]\n",
    "while i<l:\n",
    "    \n",
    "    if (len(data[i])!=11) or (data[i].count(\"/\")!=3):\n",
    "        i+=1\n",
    "    else:\n",
    "        date = data[i]\n",
    "        zz=data[i+1].index(\"$\")\n",
    "        category, title = data[i+1][:zz],data[i+1][zz+1:]\n",
    "        i+=2\n",
    "        article=\"\"\n",
    "        while i<l and (not((len(data[i])==11) and (data[i].count(\"/\")==3))):\n",
    "            article+=data[i]+\" \"\n",
    "            i+=1\n",
    "        res.append((date,category,title))\n",
    "    \n",
    "    #if i>100:break"
   ]
  },
  {
   "cell_type": "code",
   "execution_count": 6,
   "id": "85b92fc2",
   "metadata": {},
   "outputs": [
    {
     "name": "stdout",
     "output_type": "stream",
     "text": [
      "111877 111887\n"
     ]
    }
   ],
   "source": [
    "import pandas as pd\n",
    "data=pd.read_csv(\"news-filter-data.csv\")\n",
    "import pickle\n",
    "fff=open(\"filter-content-list\",'rb')\n",
    "zzz=pickle.load(fff)\n",
    "fff.close()\n",
    "from ast import literal_eval\n",
    "res=[]\n",
    "for i in range(len(data)):\n",
    "    res.append(tuple(data[j][i] if j==\"date\" else \" \".join(literal_eval(data[j][i])) for j in (\"date\",\"category\",\"headline\")))\n",
    "#res=[(a,b,c) for a,b,c in res if b in ('frontpag','sport','busi','nation','intern')]\n",
    "mapping={'frontpag':'frontpage','sport':'sport','busi':'business','nation':'national','intern':'international'}\n",
    "\n",
    "new_res=[]\n",
    "cc=0\n",
    "for a,b,c in res:\n",
    "    if b in mapping:\n",
    "        ind=zzz[cc].index(\"\\n\")\n",
    "        titl = zzz[cc][:ind]\n",
    "        doccc = zzz[cc][ind+1:]\n",
    "        \n",
    "        \n",
    "        b=mapping[b]\n",
    "        new_res.append((a,b,titl))\n",
    "    cc+=1\n",
    "print(len(new_res),len(zzz))\n",
    "res=new_res"
   ]
  },
  {
   "cell_type": "code",
   "execution_count": 9,
   "id": "d5188ebd",
   "metadata": {},
   "outputs": [
    {
     "data": {
      "text/plain": [
       "('2012/01/01/', 'frontpage', \"“Government won't accept all amendments”\")"
      ]
     },
     "execution_count": 9,
     "metadata": {},
     "output_type": "execute_result"
    }
   ],
   "source": [
    "res[2]"
   ]
  },
  {
   "cell_type": "code",
   "execution_count": 10,
   "id": "f71de235",
   "metadata": {},
   "outputs": [
    {
     "name": "stdout",
     "output_type": "stream",
     "text": [
      "111877\r"
     ]
    }
   ],
   "source": [
    "import numpy as np\n",
    "\n",
    "indd=1\n",
    "for date,category,title in res:\n",
    "    date=date.replace(\"/\",\"-\")[:-1]\n",
    "    #doc=get_embedding(doc)\n",
    "    es.index(index=\"autocomplete\" , id=indd, document={\"title\":title,\"date\":date,\"category\":category})\n",
    "    print(indd,end='\\r')\n",
    "    indd+=1"
   ]
  },
  {
   "cell_type": "code",
   "execution_count": 46,
   "id": "86e57efb",
   "metadata": {},
   "outputs": [
    {
     "name": "stdout",
     "output_type": "stream",
     "text": [
      "Rawat to head Military Affairs Dept.\n",
      "‘Iran will be held fully responsible’\n",
      "Thampi seems to be back at his best\n",
      "Congress slams rail fare hike\n",
      "Gehlot asks Harsh Vardhan to visit Kota hospital\n",
      "Relief for Netanyahu as SC refuses to rule on his eligibility\n",
      "Nifty closes at a record high amid global rally\n",
      "A battle of the heavyweights\n",
      "Hyderabad pacers restrict Kerala\n",
      "171 hospitals de-listed from PM’s health scheme after fraud\n",
      "------------------------\n",
      "Gehlot asks Harsh Vardhan to visit Kota hospital\n",
      "171 hospitals de-listed from PM’s health scheme after fraud\n",
      "Home advantage for RKFC\n",
      "Dozens held after protest in Hong Kong\n",
      "Beware these home loan myths\n",
      "Saini and Shardul prove too hot for Sri Lanka\n",
      "SBI to extend completion guarantee for home projects\n",
      "Men in Blue prove too hot for Sri Lanka, take a 1-0 lead\n",
      "Yet another home series victory beckons India\n",
      "Chennaiyin cruises home\n",
      "------------------------\n",
      "‘It’s unclear how Coronavirus is transmitted’\n",
      "How long until news if Olympics will open?\n",
      "How it came apart for Bernie Sanders\n",
      "How Azharuddin opened up a new chapter for Tendulkar\n",
      "International Olympic Committee’s package for athletes — ‘How to stay positive’\n",
      "How Australia was the start of something special for India — and one Indian\n",
      "How pandemics have changed the world\n",
      "COVID-19 has made us realise how fragile life is, says Gill\n",
      "How athletes stay fit in a lockdown\n",
      "------------------------\n",
      "‘It’s unclear how Coronavirus is transmitted’\n",
      "How pandemics have changed the world\n",
      "How it came apart for Bernie Sanders\n",
      "How athletes stay fit in a lockdown\n",
      "How long until news if Olympics will open?\n",
      "How Azharuddin opened up a new chapter for Tendulkar\n",
      "International Olympic Committee’s package for athletes — ‘How to stay positive’\n",
      "COVID-19 has made us realise how fragile life is, says Gill\n",
      "How Australia was the start of something special for India — and one Indian\n",
      "------------------------\n",
      "How athletes stay fit in a lockdown\n",
      "How Azharuddin opened up a new chapter for Tendulkar\n",
      "How it came apart for Bernie Sanders\n",
      "How Australia was the start of something special for India — and one Indian\n",
      "‘It’s unclear how Coronavirus is transmitted’\n",
      "How pandemics have changed the world\n",
      "International Olympic Committee’s package for athletes — ‘How to stay positive’\n",
      "How long until news if Olympics will open?\n",
      "COVID-19 has made us realise how fragile life is, says Gill\n",
      "Rawat to head Military Affairs Dept.\n",
      "------------------------\n",
      "‘It’s unclear how Coronavirus is transmitted’\n",
      "How pandemics have changed the world\n",
      "How it came apart for Bernie Sanders\n",
      "How athletes stay fit in a lockdown\n",
      "How long until news if Olympics will open?\n",
      "How Azharuddin opened up a new chapter for Tendulkar\n",
      "International Olympic Committee’s package for athletes — ‘How to stay positive’\n",
      "COVID-19 has made us realise how fragile life is, says Gill\n",
      "How Australia was the start of something special for India — and one Indian\n",
      "Indore, Jamshedpur are the cleanest on Swachh 2020 table\n",
      "------------------------\n",
      "‘It’s unclear how Coronavirus is transmitted’\n",
      "How pandemics have changed the world\n",
      "How it came apart for Bernie Sanders\n",
      "How athletes stay fit in a lockdown\n",
      "How long until news if Olympics will open?\n",
      "How Azharuddin opened up a new chapter for Tendulkar\n",
      "International Olympic Committee’s package for athletes — ‘How to stay positive’\n",
      "COVID-19 has made us realise how fragile life is, says Gill\n",
      "How Australia was the start of something special for India — and one Indian\n",
      "Indore, Jamshedpur are the cleanest on Swachh 2020 table\n",
      "------------------------\n",
      "‘It’s unclear how Coronavirus is transmitted’\n",
      "How pandemics have changed the world\n",
      "How it came apart for Bernie Sanders\n",
      "How athletes stay fit in a lockdown\n",
      "How long until news if Olympics will open?\n",
      "How Azharuddin opened up a new chapter for Tendulkar\n",
      "Missing persons are dead: Gotabaya\n",
      "Why are oil prices crashing?\n",
      "International Olympic Committee’s package for athletes — ‘How to stay positive’\n",
      "Minorities are hit hardest in U.K.\n",
      "------------------------\n",
      "‘It’s unclear how Coronavirus is transmitted’\n",
      "How pandemics have changed the world\n",
      "How it came apart for Bernie Sanders\n",
      "How athletes stay fit in a lockdown\n",
      "How long until news if Olympics will open?\n",
      "How Azharuddin opened up a new chapter for Tendulkar\n",
      "Stay where you are, MEA tells Indians abroad\n",
      "Missing persons are dead: Gotabaya\n",
      "Why are oil prices crashing?\n",
      "International Olympic Committee’s package for athletes — ‘How to stay positive’\n",
      "------------------------\n",
      "‘It’s unclear how Coronavirus is transmitted’\n",
      "How pandemics have changed the world\n",
      "How it came apart for Bernie Sanders\n",
      "How athletes stay fit in a lockdown\n",
      "How long until news if Olympics will open?\n",
      "How Azharuddin opened up a new chapter for Tendulkar\n",
      "Stay where you are, MEA tells Indians abroad\n",
      "Missing persons are dead: Gotabaya\n",
      "Why are oil prices crashing?\n",
      "International Olympic Committee’s package for athletes — ‘How to stay positive’\n",
      "------------------------\n",
      "‘It’s unclear how Coronavirus is transmitted’\n",
      "How pandemics have changed the world\n",
      "How it came apart for Bernie Sanders\n",
      "How athletes stay fit in a lockdown\n",
      "How long until news if Olympics will open?\n",
      "How Azharuddin opened up a new chapter for Tendulkar\n",
      "Stay where you are, MEA tells Indians abroad\n",
      "Missing persons are dead: Gotabaya\n",
      "Why are oil prices crashing?\n",
      "International Olympic Committee’s package for athletes — ‘How to stay positive’\n",
      "------------------------\n",
      "Stay where you are, MEA tells Indians abroad\n",
      "Look before you leap\n",
      "‘You innovate and exercise’\n",
      "‘It’s unclear how Coronavirus is transmitted’\n",
      "How pandemics have changed the world\n",
      "How it came apart for Bernie Sanders\n",
      "How athletes stay fit in a lockdown\n",
      "Do you know your insurance policy?\n",
      "How long until news if Olympics will open?\n",
      "‘You don’t need CAA to grant citizenship’\n",
      "------------------------\n",
      "Stay where you are, MEA tells Indians abroad\n",
      "‘You don’t need CAA to grant citizenship’\n",
      "‘In chess, you don’t have to turn a pro’\n",
      "Do you know your insurance policy?\n",
      "Look before you leap\n",
      "‘You innovate and exercise’\n",
      "Must you keep off debt mutual funds?\n",
      "‘It’s unclear how Coronavirus is transmitted’\n",
      "How pandemics have changed the world\n",
      "Missing persons are dead: Gotabaya\n",
      "------------------------\n",
      "Stay where you are, MEA tells Indians abroad\n",
      "‘You don’t need CAA to grant citizenship’\n",
      "‘In chess, you don’t have to turn a pro’\n",
      "Do you know your insurance policy?\n",
      "Look before you leap\n",
      "‘You innovate and exercise’\n",
      "‘It’s unclear how Coronavirus is transmitted’\n",
      "How pandemics have changed the world\n",
      "How it came apart for Bernie Sanders\n",
      "How athletes stay fit in a lockdown\n",
      "------------------------\n",
      "Stay where you are, MEA tells Indians abroad\n",
      "Look before you leap\n",
      "‘You innovate and exercise’\n",
      "‘It’s unclear how Coronavirus is transmitted’\n",
      "How pandemics have changed the world\n",
      "How it came apart for Bernie Sanders\n",
      "How athletes stay fit in a lockdown\n",
      "Do you know your insurance policy?\n",
      "How long until news if Olympics will open?\n",
      "‘You don’t need CAA to grant citizenship’\n",
      "------------------------\n",
      "Stay where you are, MEA tells Indians abroad\n",
      "Look before you leap\n",
      "‘You innovate and exercise’\n",
      "‘It’s unclear how Coronavirus is transmitted’\n",
      "How pandemics have changed the world\n",
      "How it came apart for Bernie Sanders\n",
      "How athletes stay fit in a lockdown\n",
      "Do you know your insurance policy?\n",
      "How long until news if Olympics will open?\n",
      "‘You don’t need CAA to grant citizenship’\n",
      "------------------------\n",
      "Stay where you are, MEA tells Indians abroad\n",
      "Look before you leap\n",
      "‘You innovate and exercise’\n",
      "‘It’s unclear how Coronavirus is transmitted’\n",
      "How pandemics have changed the world\n",
      "How it came apart for Bernie Sanders\n",
      "How athletes stay fit in a lockdown\n",
      "Do you know your insurance policy?\n",
      "How long until news if Olympics will open?\n",
      "‘You don’t need CAA to grant citizenship’\n",
      "------------------------\n"
     ]
    },
    {
     "name": "stderr",
     "output_type": "stream",
     "text": [
      "C:\\Users\\ivnag\\AppData\\Local\\Temp/ipykernel_14628/4159854638.py:43: DeprecationWarning: The 'body' parameter is deprecated and will be removed in a future version. Instead use individual parameters.\n",
      "  for i in es.search(index=\"autocomplete\",body={'size': 10,'query': queryy})['hits']['hits']:\n"
     ]
    }
   ],
   "source": [
    "r=''\n",
    "for ii in \"how are you doing\":\n",
    "    r+=ii\n",
    "    queryy = {\n",
    "\n",
    "\n",
    "        \"bool\":\n",
    "         {\n",
    "               \"must\":[\n",
    "             { \"multi_match\": {\n",
    "               \"query\": r,\n",
    "               \"type\": \"bool_prefix\",\n",
    "               \"fields\": [\n",
    "                   \"title\",\n",
    "                   \"title._2gram\",\n",
    "                   \"title._3gram\"\n",
    "               ]\n",
    "           }}],\n",
    "             \"filter\":\n",
    "             [\n",
    "                 {\n",
    "                     \"terms\":{\n",
    "                         \"category\":[\"tp-sport\",\"tp-business\",\"tp-national\",\"tp-international\"]\n",
    "                     }\n",
    "\n",
    "                 },\n",
    "                 {\n",
    "                     \"range\":{\n",
    "                         \"date\":{\"gte\":\"2020-01-01\",\n",
    "                         \"lte\":\"2020-06-01\"}\n",
    "                     }\n",
    "\n",
    "                 }\n",
    "\n",
    "             ]\n",
    "\n",
    "         }   \n",
    "\n",
    "        }\n",
    "\n",
    "\n",
    "\n",
    "    for i in es.search(index=\"autocomplete\",body={'size': 10,'query': queryy})['hits']['hits']:\n",
    "        print(i['_source']['title'])\n",
    "    print(\"------------------------\")"
   ]
  },
  {
   "cell_type": "code",
   "execution_count": 33,
   "id": "18f1bdfd",
   "metadata": {},
   "outputs": [
    {
     "name": "stdout",
     "output_type": "stream",
     "text": [
      "{'took': 40, 'timed_out': False, '_shards': {'total': 1, 'successful': 1, 'skipped': 0, 'failed': 0}, 'hits': {'total': {'value': 44, 'relation': 'eq'}, 'max_score': 1.0, 'hits': [{'_index': 'autocomplete', '_id': '21', '_score': 1.0, '_source': {'title': 'Thampi seems to be back at his best', 'date': '2020-01-01', 'category': 'tp-sport'}}, {'_index': 'autocomplete', '_id': '109', '_score': 1.0, '_source': {'title': 'Bumrah’s return highlights India’s first venture in the new year', 'date': '2020-01-05', 'category': 'tp-sport'}}, {'_index': 'autocomplete', '_id': '229', '_score': 1.0, '_source': {'title': 'Chennai City stuns Gokulam in high-scoring thriller', 'date': '2020-01-10', 'category': 'tp-sport'}}, {'_index': 'autocomplete', '_id': '433', '_score': 1.0, '_source': {'title': 'Vidarbha hits back early to cut short Delhi’s joy', 'date': '2020-01-20', 'category': 'tp-sport'}}, {'_index': 'autocomplete', '_id': '457', '_score': 1.0, '_source': {'title': 'Rahul has sealed his spot as a wicketkeeper-batsman', 'date': '2020-01-21', 'category': 'tp-sport'}}, {'_index': 'autocomplete', '_id': '483', '_score': 1.0, '_source': {'title': 'Ganesh Satish hits unbeaten ton', 'date': '2020-01-22', 'category': 'tp-sport'}}, {'_index': 'autocomplete', '_id': '534', '_score': 1.0, '_source': {'title': 'Upbeat India hits the ground running in New Zealand', 'date': '2020-01-24', 'category': 'tp-sport'}}, {'_index': 'autocomplete', '_id': '537', '_score': 1.0, '_source': {'title': 'Nadal shows his caring side', 'date': '2020-01-24', 'category': 'tp-sport'}}, {'_index': 'autocomplete', '_id': '634', '_score': 1.0, '_source': {'title': '‘Tough to hit Bumrah’', 'date': '2020-01-28', 'category': 'tp-sport'}}, {'_index': 'autocomplete', '_id': '769', '_score': 1.0, '_source': {'title': 'Djokovic continues his love affair with Norman Brookes', 'date': '2020-02-03', 'category': 'tp-sport'}}]}}\n"
     ]
    }
   ],
   "source": []
  },
  {
   "cell_type": "code",
   "execution_count": null,
   "id": "dd270b6e",
   "metadata": {},
   "outputs": [],
   "source": []
  }
 ],
 "metadata": {
  "kernelspec": {
   "display_name": "Python 3 (ipykernel)",
   "language": "python",
   "name": "python3"
  },
  "language_info": {
   "codemirror_mode": {
    "name": "ipython",
    "version": 3
   },
   "file_extension": ".py",
   "mimetype": "text/x-python",
   "name": "python",
   "nbconvert_exporter": "python",
   "pygments_lexer": "ipython3",
   "version": "3.9.2rc1"
  }
 },
 "nbformat": 4,
 "nbformat_minor": 5
}
